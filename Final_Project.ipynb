{
  "nbformat": 4,
  "nbformat_minor": 0,
  "metadata": {
    "colab": {
      "provenance": [],
      "authorship_tag": "ABX9TyMjBmO2rDlw8IQxw6Ahkc3Z",
      "include_colab_link": true
    },
    "kernelspec": {
      "name": "python3",
      "display_name": "Python 3"
    },
    "language_info": {
      "name": "python"
    }
  },
  "cells": [
    {
      "cell_type": "markdown",
      "metadata": {
        "id": "view-in-github",
        "colab_type": "text"
      },
      "source": [
        "<a href=\"https://colab.research.google.com/github/MuhammedYaseen786/Final-Project/blob/main/Final_Project.ipynb\" target=\"_parent\"><img src=\"https://colab.research.google.com/assets/colab-badge.svg\" alt=\"Open In Colab\"/></a>"
      ]
    },
    {
      "cell_type": "code",
      "execution_count": null,
      "metadata": {
        "id": "fUCU1eDd27I7"
      },
      "outputs": [],
      "source": [
        "# prompt: Spotify id track\n",
        "\n",
        "!pip install spotipy\n",
        "from spotipy.oauth2 import SpotifyClientCredentials\n",
        "\n",
        "# Set up the Spotify API client credentials\n",
        "client_id = '[your client ID]'\n",
        "client_secret = '[your client secret]'\n",
        "client_credentials_manager = SpotifyClientCredentials(client_id, client_secret)\n",
        "\n",
        "# Create a Spotify API object\n",
        "spotify = spotipy.Spotify(client_credentials_manager=client_credentials_manager)\n",
        "\n",
        "# Get the track ID from the user\n",
        "track_name = input(\"Enter the name of the track: \")\n",
        "\n",
        "# Search for the track on Spotify\n",
        "results = spotify.search(q=track_name, type=\"track\")\n",
        "\n",
        "# Get the first track from the search results\n",
        "if len(results['tracks']['items']) > 0:\n",
        "    track_id = results['tracks']['items'][0]['id']\n",
        "    print(f\"Track ID: {track_id}\")\n",
        "else:\n",
        "    print(f\"No track found with the name '{track_name}'\")\n"
      ]
    }
  ]
}